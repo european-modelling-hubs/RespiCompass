{
 "cells": [
  {
   "cell_type": "code",
   "execution_count": 47,
   "metadata": {},
   "outputs": [
    {
     "name": "stderr",
     "output_type": "stream",
     "text": [
      "/var/folders/5q/w1ww7ss174bb2jxkr7jkj3rw0000gp/T/ipykernel_17058/1094643647.py:21: SettingWithCopyWarning: \n",
      "A value is trying to be set on a copy of a slice from a DataFrame.\n",
      "Try using .loc[row_indexer,col_indexer] = value instead\n",
      "\n",
      "See the caveats in the documentation: https://pandas.pydata.org/pandas-docs/stable/user_guide/indexing.html#returning-a-view-versus-a-copy\n",
      "  df_65plus['is_reference'] = df_65plus.groupby('location_name')['season'].transform(lambda x: x == x.max())\n"
     ]
    }
   ],
   "source": [
    "import pandas as pd\n",
    "\n",
    "iso_df = pd.read_csv(\"../../../../supporting-files/locations_iso2_codes.csv\")\n",
    "\n",
    "df = pd.read_csv(\"./Influenza vaccine coverage EU.csv\")\n",
    "df.rename(columns={\"country_name\": \"location_name\", \n",
    "                   \"age_group\": \"target_group\", \n",
    "                   \"year\": \"season\"}, inplace=True)\n",
    "df.season = df.season.apply(lambda x : x.split(\"-\")[0] + \"-20\" + x.split(\"-\")[1])\n",
    "df.source = df.source.str.replace(' mSAL Italia', 'mSAL Italia')\n",
    "df.source = df.source.str.replace(' Finnish Institute for Health and Welfare (THL) ', 'Finnish Institute for Health and Welfare (THL)')\n",
    "df.source = df.source.str.replace('Public Health Agenc y of Sweden', 'Public Health Agency of Sweden')\n",
    "df.target_group = df.target_group.str.replace(\" \", \"\")\n",
    "df[\"location_name\"] = df[\"location_name\"].str.replace(\"The Netherlands\", \"Netherlands\")\n",
    "\n",
    "df = pd.merge(left=df, right=iso_df, on=\"location_name\", how=\"right\")\n",
    "df = df[[\"season\", \"location_name\", \"iso2_code\", \"target_group\", \"vaccine_coverage\", \"source\"]]\n",
    "\n",
    "# 65+ eurostat\n",
    "df_65plus = df.loc[(df[\"target_group\"] == \"65+y\") & (df.source == \"EUROSTAT\")]\n",
    "df_65plus['is_reference'] = df_65plus.groupby('location_name')['season'].transform(lambda x: x == x.max())\n",
    "\n",
    "df_65plus.to_csv(\"../vaccine_coverage_65plus.csv\", index=False)\n",
    "df.to_csv(\"../vaccine_coverage_all.csv\", index=False)"
   ]
  },
  {
   "cell_type": "code",
   "execution_count": null,
   "metadata": {},
   "outputs": [],
   "source": []
  }
 ],
 "metadata": {
  "kernelspec": {
   "display_name": "base",
   "language": "python",
   "name": "python3"
  },
  "language_info": {
   "codemirror_mode": {
    "name": "ipython",
    "version": 3
   },
   "file_extension": ".py",
   "mimetype": "text/x-python",
   "name": "python",
   "nbconvert_exporter": "python",
   "pygments_lexer": "ipython3",
   "version": "3.8.-1"
  }
 },
 "nbformat": 4,
 "nbformat_minor": 2
}
